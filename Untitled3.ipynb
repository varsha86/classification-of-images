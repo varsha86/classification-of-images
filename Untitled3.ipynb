{
  "nbformat": 4,
  "nbformat_minor": 0,
  "metadata": {
    "colab": {
      "provenance": []
    },
    "kernelspec": {
      "name": "python3",
      "display_name": "Python 3"
    },
    "language_info": {
      "name": "python"
    }
  },
  "cells": [
    {
      "cell_type": "code",
      "execution_count": 1,
      "metadata": {
        "colab": {
          "base_uri": "https://localhost:8080/"
        },
        "id": "nVHYVPdaOke3",
        "outputId": "f31ef8c5-26f2-4168-8f8c-883e0302d6e2"
      },
      "outputs": [
        {
          "output_type": "stream",
          "name": "stdout",
          "text": [
            "Downloading data from https://www.cs.toronto.edu/~kriz/cifar-10-python.tar.gz\n",
            "170498071/170498071 [==============================] - 12s 0us/step\n",
            "Epoch 1/10\n",
            "1563/1563 [==============================] - 70s 44ms/step - loss: 1.5082 - accuracy: 0.4503 - val_loss: 1.2654 - val_accuracy: 0.5438\n",
            "Epoch 2/10\n",
            "1563/1563 [==============================] - 67s 43ms/step - loss: 1.1516 - accuracy: 0.5924 - val_loss: 1.0913 - val_accuracy: 0.6159\n",
            "Epoch 3/10\n",
            "1563/1563 [==============================] - 66s 42ms/step - loss: 1.0042 - accuracy: 0.6483 - val_loss: 0.9648 - val_accuracy: 0.6599\n",
            "Epoch 4/10\n",
            "1563/1563 [==============================] - 68s 43ms/step - loss: 0.8995 - accuracy: 0.6859 - val_loss: 0.9987 - val_accuracy: 0.6516\n",
            "Epoch 5/10\n",
            "1563/1563 [==============================] - 68s 43ms/step - loss: 0.8289 - accuracy: 0.7099 - val_loss: 0.9094 - val_accuracy: 0.6835\n",
            "Epoch 6/10\n",
            "1563/1563 [==============================] - 67s 43ms/step - loss: 0.7696 - accuracy: 0.7289 - val_loss: 0.9204 - val_accuracy: 0.6891\n",
            "Epoch 7/10\n",
            "1563/1563 [==============================] - 66s 42ms/step - loss: 0.7214 - accuracy: 0.7480 - val_loss: 0.8642 - val_accuracy: 0.7018\n",
            "Epoch 8/10\n",
            "1563/1563 [==============================] - 70s 45ms/step - loss: 0.6767 - accuracy: 0.7632 - val_loss: 0.8406 - val_accuracy: 0.7143\n",
            "Epoch 9/10\n",
            "1563/1563 [==============================] - 67s 43ms/step - loss: 0.6411 - accuracy: 0.7736 - val_loss: 0.8748 - val_accuracy: 0.7066\n",
            "Epoch 10/10\n",
            "1563/1563 [==============================] - 68s 43ms/step - loss: 0.6052 - accuracy: 0.7891 - val_loss: 0.8503 - val_accuracy: 0.7181\n",
            "313/313 [==============================] - 4s 12ms/step - loss: 0.8503 - accuracy: 0.7181\n",
            "Test accuracy: 0.7181000113487244\n"
          ]
        }
      ],
      "source": [
        "import tensorflow as tf\n",
        "from tensorflow.keras import datasets, layers, models\n",
        "\n",
        "# Load and preprocess the CIFAR-10 dataset\n",
        "(train_images, train_labels), (test_images, test_labels) = datasets.cifar10.load_data()\n",
        "train_images, test_images = train_images / 255.0, test_images / 255.0\n",
        "\n",
        "# Define the CNN model\n",
        "model = models.Sequential([\n",
        "    layers.Conv2D(32, (3, 3), activation='relu', input_shape=(32, 32, 3)),\n",
        "    layers.MaxPooling2D((2, 2)),\n",
        "    layers.Conv2D(64, (3, 3), activation='relu'),\n",
        "    layers.MaxPooling2D((2, 2)),\n",
        "    layers.Conv2D(64, (3, 3), activation='relu'),\n",
        "    layers.Flatten(),\n",
        "    layers.Dense(64, activation='relu'),\n",
        "    layers.Dense(10)\n",
        "])\n",
        "\n",
        "# Compile the model\n",
        "model.compile(optimizer='adam',\n",
        "              loss=tf.keras.losses.SparseCategoricalCrossentropy(from_logits=True),\n",
        "              metrics=['accuracy'])\n",
        "\n",
        "# Train the model\n",
        "history = model.fit(train_images, train_labels, epochs=10,\n",
        "                    validation_data=(test_images, test_labels))\n",
        "\n",
        "# Evaluate the model\n",
        "test_loss, test_acc = model.evaluate(test_images, test_labels)\n",
        "print(\"Test accuracy:\", test_acc)\n",
        "\n"
      ]
    }
  ]
}